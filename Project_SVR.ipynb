{
  "nbformat": 4,
  "nbformat_minor": 0,
  "metadata": {
    "colab": {
      "provenance": [],
      "authorship_tag": "ABX9TyPV+BdyQrPwIK48R4GB4TIN",
      "include_colab_link": true
    },
    "kernelspec": {
      "name": "python3",
      "display_name": "Python 3"
    },
    "language_info": {
      "name": "python"
    }
  },
  "cells": [
    {
      "cell_type": "markdown",
      "metadata": {
        "id": "view-in-github",
        "colab_type": "text"
      },
      "source": [
        "<a href=\"https://colab.research.google.com/github/Swatantraraj19/Soil-Analysis-and-Prediction-Using-Machine-Learning-and-VNIR-Spectroscopy-Data/blob/main/Project_SVR.ipynb\" target=\"_parent\"><img src=\"https://colab.research.google.com/assets/colab-badge.svg\" alt=\"Open In Colab\"/></a>"
      ]
    },
    {
      "cell_type": "code",
      "execution_count": 19,
      "metadata": {
        "id": "GdKT7mi9I7np"
      },
      "outputs": [],
      "source": [
        "import numpy as np\n",
        "import pandas as pd\n",
        "from sklearn.model_selection import train_test_split\n",
        "from sklearn.svm import SVR\n",
        "from sklearn.metrics import mean_squared_error\n"
      ]
    },
    {
      "cell_type": "code",
      "source": [
        "from google.colab import drive\n",
        "drive.mount('/content/drive')\n",
        "\n",
        "# Load dataset\n",
        "data = pd.read_csv(\"/content/drive/MyDrive/Soil Analysis Project/ngp_dataset_copy.csv\")\n"
      ],
      "metadata": {
        "colab": {
          "base_uri": "https://localhost:8080/"
        },
        "id": "RHi-oaJYJFyX",
        "outputId": "544cee85-743f-4794-b1f7-199dccbd7cbb"
      },
      "execution_count": 20,
      "outputs": [
        {
          "output_type": "stream",
          "name": "stdout",
          "text": [
            "Drive already mounted at /content/drive; to attempt to forcibly remount, call drive.mount(\"/content/drive\", force_remount=True).\n"
          ]
        },
        {
          "output_type": "stream",
          "name": "stderr",
          "text": [
            "<ipython-input-20-2f27bf6325f6>:5: DtypeWarning: Columns (0) have mixed types. Specify dtype option on import or set low_memory=False.\n",
            "  data = pd.read_csv(\"/content/drive/MyDrive/Soil Analysis Project/ngp_dataset_copy.csv\")\n"
          ]
        }
      ]
    },
    {
      "cell_type": "code",
      "source": [
        "data.head()"
      ],
      "metadata": {
        "colab": {
          "base_uri": "https://localhost:8080/",
          "height": 290
        },
        "id": "ldxmlzXuJM82",
        "outputId": "380e102d-0aa3-484f-916f-650bf6d575c0"
      },
      "execution_count": 21,
      "outputs": [
        {
          "output_type": "execute_result",
          "data": {
            "text/plain": [
              "  SSN  phExtract  Ec Extract  CaCO3 equivalent %    oc       350       351  \\\n",
              "0  S1       9.71        8.60                2.13  0.10  0.046108  0.045455   \n",
              "1  S2       9.31       10.98                2.00  0.16  0.058354  0.056818   \n",
              "2  S3      10.06       11.40                4.63  0.33  0.054272  0.053030   \n",
              "3  S4       9.69        7.54                9.13  0.30  0.057146  0.053030   \n",
              "4  S5       9.75        5.16               12.63  0.25  0.063643  0.064394   \n",
              "\n",
              "        352       353       354  ...      2491      2492      2493      2494  \\\n",
              "0  0.047377  0.047641  0.047244  ...  0.361984  0.362534  0.367887  0.373615   \n",
              "1  0.060466  0.059517  0.056903  ...  0.432295  0.431881  0.432052  0.431516   \n",
              "2  0.054444  0.054254  0.053800  ...  0.383106  0.380261  0.384512  0.392465   \n",
              "3  0.054444  0.052904  0.050697  ...  0.396354  0.390753  0.391703  0.395259   \n",
              "4  0.067533  0.067480  0.066212  ...  0.462253  0.463458  0.463963  0.463574   \n",
              "\n",
              "       2495      2496      2497      2498      2499      2500  \n",
              "0  0.372376  0.368952  0.369218  0.369831  0.368443  0.366677  \n",
              "1  0.430653  0.429207  0.428507  0.427753  0.427360  0.428772  \n",
              "2  0.392107  0.386532  0.382463  0.379579  0.381684  0.384766  \n",
              "3  0.397433  0.400544  0.401183  0.399556  0.398051  0.395273  \n",
              "4  0.464622  0.465143  0.461718  0.457439  0.456462  0.456705  \n",
              "\n",
              "[5 rows x 2156 columns]"
            ],
            "text/html": [
              "\n",
              "  <div id=\"df-e64a246e-6dbe-4cef-8686-27dcac684587\" class=\"colab-df-container\">\n",
              "    <div>\n",
              "<style scoped>\n",
              "    .dataframe tbody tr th:only-of-type {\n",
              "        vertical-align: middle;\n",
              "    }\n",
              "\n",
              "    .dataframe tbody tr th {\n",
              "        vertical-align: top;\n",
              "    }\n",
              "\n",
              "    .dataframe thead th {\n",
              "        text-align: right;\n",
              "    }\n",
              "</style>\n",
              "<table border=\"1\" class=\"dataframe\">\n",
              "  <thead>\n",
              "    <tr style=\"text-align: right;\">\n",
              "      <th></th>\n",
              "      <th>SSN</th>\n",
              "      <th>phExtract</th>\n",
              "      <th>Ec Extract</th>\n",
              "      <th>CaCO3 equivalent %</th>\n",
              "      <th>oc</th>\n",
              "      <th>350</th>\n",
              "      <th>351</th>\n",
              "      <th>352</th>\n",
              "      <th>353</th>\n",
              "      <th>354</th>\n",
              "      <th>...</th>\n",
              "      <th>2491</th>\n",
              "      <th>2492</th>\n",
              "      <th>2493</th>\n",
              "      <th>2494</th>\n",
              "      <th>2495</th>\n",
              "      <th>2496</th>\n",
              "      <th>2497</th>\n",
              "      <th>2498</th>\n",
              "      <th>2499</th>\n",
              "      <th>2500</th>\n",
              "    </tr>\n",
              "  </thead>\n",
              "  <tbody>\n",
              "    <tr>\n",
              "      <th>0</th>\n",
              "      <td>S1</td>\n",
              "      <td>9.71</td>\n",
              "      <td>8.60</td>\n",
              "      <td>2.13</td>\n",
              "      <td>0.10</td>\n",
              "      <td>0.046108</td>\n",
              "      <td>0.045455</td>\n",
              "      <td>0.047377</td>\n",
              "      <td>0.047641</td>\n",
              "      <td>0.047244</td>\n",
              "      <td>...</td>\n",
              "      <td>0.361984</td>\n",
              "      <td>0.362534</td>\n",
              "      <td>0.367887</td>\n",
              "      <td>0.373615</td>\n",
              "      <td>0.372376</td>\n",
              "      <td>0.368952</td>\n",
              "      <td>0.369218</td>\n",
              "      <td>0.369831</td>\n",
              "      <td>0.368443</td>\n",
              "      <td>0.366677</td>\n",
              "    </tr>\n",
              "    <tr>\n",
              "      <th>1</th>\n",
              "      <td>S2</td>\n",
              "      <td>9.31</td>\n",
              "      <td>10.98</td>\n",
              "      <td>2.00</td>\n",
              "      <td>0.16</td>\n",
              "      <td>0.058354</td>\n",
              "      <td>0.056818</td>\n",
              "      <td>0.060466</td>\n",
              "      <td>0.059517</td>\n",
              "      <td>0.056903</td>\n",
              "      <td>...</td>\n",
              "      <td>0.432295</td>\n",
              "      <td>0.431881</td>\n",
              "      <td>0.432052</td>\n",
              "      <td>0.431516</td>\n",
              "      <td>0.430653</td>\n",
              "      <td>0.429207</td>\n",
              "      <td>0.428507</td>\n",
              "      <td>0.427753</td>\n",
              "      <td>0.427360</td>\n",
              "      <td>0.428772</td>\n",
              "    </tr>\n",
              "    <tr>\n",
              "      <th>2</th>\n",
              "      <td>S3</td>\n",
              "      <td>10.06</td>\n",
              "      <td>11.40</td>\n",
              "      <td>4.63</td>\n",
              "      <td>0.33</td>\n",
              "      <td>0.054272</td>\n",
              "      <td>0.053030</td>\n",
              "      <td>0.054444</td>\n",
              "      <td>0.054254</td>\n",
              "      <td>0.053800</td>\n",
              "      <td>...</td>\n",
              "      <td>0.383106</td>\n",
              "      <td>0.380261</td>\n",
              "      <td>0.384512</td>\n",
              "      <td>0.392465</td>\n",
              "      <td>0.392107</td>\n",
              "      <td>0.386532</td>\n",
              "      <td>0.382463</td>\n",
              "      <td>0.379579</td>\n",
              "      <td>0.381684</td>\n",
              "      <td>0.384766</td>\n",
              "    </tr>\n",
              "    <tr>\n",
              "      <th>3</th>\n",
              "      <td>S4</td>\n",
              "      <td>9.69</td>\n",
              "      <td>7.54</td>\n",
              "      <td>9.13</td>\n",
              "      <td>0.30</td>\n",
              "      <td>0.057146</td>\n",
              "      <td>0.053030</td>\n",
              "      <td>0.054444</td>\n",
              "      <td>0.052904</td>\n",
              "      <td>0.050697</td>\n",
              "      <td>...</td>\n",
              "      <td>0.396354</td>\n",
              "      <td>0.390753</td>\n",
              "      <td>0.391703</td>\n",
              "      <td>0.395259</td>\n",
              "      <td>0.397433</td>\n",
              "      <td>0.400544</td>\n",
              "      <td>0.401183</td>\n",
              "      <td>0.399556</td>\n",
              "      <td>0.398051</td>\n",
              "      <td>0.395273</td>\n",
              "    </tr>\n",
              "    <tr>\n",
              "      <th>4</th>\n",
              "      <td>S5</td>\n",
              "      <td>9.75</td>\n",
              "      <td>5.16</td>\n",
              "      <td>12.63</td>\n",
              "      <td>0.25</td>\n",
              "      <td>0.063643</td>\n",
              "      <td>0.064394</td>\n",
              "      <td>0.067533</td>\n",
              "      <td>0.067480</td>\n",
              "      <td>0.066212</td>\n",
              "      <td>...</td>\n",
              "      <td>0.462253</td>\n",
              "      <td>0.463458</td>\n",
              "      <td>0.463963</td>\n",
              "      <td>0.463574</td>\n",
              "      <td>0.464622</td>\n",
              "      <td>0.465143</td>\n",
              "      <td>0.461718</td>\n",
              "      <td>0.457439</td>\n",
              "      <td>0.456462</td>\n",
              "      <td>0.456705</td>\n",
              "    </tr>\n",
              "  </tbody>\n",
              "</table>\n",
              "<p>5 rows × 2156 columns</p>\n",
              "</div>\n",
              "    <div class=\"colab-df-buttons\">\n",
              "\n",
              "  <div class=\"colab-df-container\">\n",
              "    <button class=\"colab-df-convert\" onclick=\"convertToInteractive('df-e64a246e-6dbe-4cef-8686-27dcac684587')\"\n",
              "            title=\"Convert this dataframe to an interactive table.\"\n",
              "            style=\"display:none;\">\n",
              "\n",
              "  <svg xmlns=\"http://www.w3.org/2000/svg\" height=\"24px\" viewBox=\"0 -960 960 960\">\n",
              "    <path d=\"M120-120v-720h720v720H120Zm60-500h600v-160H180v160Zm220 220h160v-160H400v160Zm0 220h160v-160H400v160ZM180-400h160v-160H180v160Zm440 0h160v-160H620v160ZM180-180h160v-160H180v160Zm440 0h160v-160H620v160Z\"/>\n",
              "  </svg>\n",
              "    </button>\n",
              "\n",
              "  <style>\n",
              "    .colab-df-container {\n",
              "      display:flex;\n",
              "      gap: 12px;\n",
              "    }\n",
              "\n",
              "    .colab-df-convert {\n",
              "      background-color: #E8F0FE;\n",
              "      border: none;\n",
              "      border-radius: 50%;\n",
              "      cursor: pointer;\n",
              "      display: none;\n",
              "      fill: #1967D2;\n",
              "      height: 32px;\n",
              "      padding: 0 0 0 0;\n",
              "      width: 32px;\n",
              "    }\n",
              "\n",
              "    .colab-df-convert:hover {\n",
              "      background-color: #E2EBFA;\n",
              "      box-shadow: 0px 1px 2px rgba(60, 64, 67, 0.3), 0px 1px 3px 1px rgba(60, 64, 67, 0.15);\n",
              "      fill: #174EA6;\n",
              "    }\n",
              "\n",
              "    .colab-df-buttons div {\n",
              "      margin-bottom: 4px;\n",
              "    }\n",
              "\n",
              "    [theme=dark] .colab-df-convert {\n",
              "      background-color: #3B4455;\n",
              "      fill: #D2E3FC;\n",
              "    }\n",
              "\n",
              "    [theme=dark] .colab-df-convert:hover {\n",
              "      background-color: #434B5C;\n",
              "      box-shadow: 0px 1px 3px 1px rgba(0, 0, 0, 0.15);\n",
              "      filter: drop-shadow(0px 1px 2px rgba(0, 0, 0, 0.3));\n",
              "      fill: #FFFFFF;\n",
              "    }\n",
              "  </style>\n",
              "\n",
              "    <script>\n",
              "      const buttonEl =\n",
              "        document.querySelector('#df-e64a246e-6dbe-4cef-8686-27dcac684587 button.colab-df-convert');\n",
              "      buttonEl.style.display =\n",
              "        google.colab.kernel.accessAllowed ? 'block' : 'none';\n",
              "\n",
              "      async function convertToInteractive(key) {\n",
              "        const element = document.querySelector('#df-e64a246e-6dbe-4cef-8686-27dcac684587');\n",
              "        const dataTable =\n",
              "          await google.colab.kernel.invokeFunction('convertToInteractive',\n",
              "                                                    [key], {});\n",
              "        if (!dataTable) return;\n",
              "\n",
              "        const docLinkHtml = 'Like what you see? Visit the ' +\n",
              "          '<a target=\"_blank\" href=https://colab.research.google.com/notebooks/data_table.ipynb>data table notebook</a>'\n",
              "          + ' to learn more about interactive tables.';\n",
              "        element.innerHTML = '';\n",
              "        dataTable['output_type'] = 'display_data';\n",
              "        await google.colab.output.renderOutput(dataTable, element);\n",
              "        const docLink = document.createElement('div');\n",
              "        docLink.innerHTML = docLinkHtml;\n",
              "        element.appendChild(docLink);\n",
              "      }\n",
              "    </script>\n",
              "  </div>\n",
              "\n",
              "\n",
              "<div id=\"df-4d5db0bc-e7ae-4193-b59b-fb235ef6f8c4\">\n",
              "  <button class=\"colab-df-quickchart\" onclick=\"quickchart('df-4d5db0bc-e7ae-4193-b59b-fb235ef6f8c4')\"\n",
              "            title=\"Suggest charts\"\n",
              "            style=\"display:none;\">\n",
              "\n",
              "<svg xmlns=\"http://www.w3.org/2000/svg\" height=\"24px\"viewBox=\"0 0 24 24\"\n",
              "     width=\"24px\">\n",
              "    <g>\n",
              "        <path d=\"M19 3H5c-1.1 0-2 .9-2 2v14c0 1.1.9 2 2 2h14c1.1 0 2-.9 2-2V5c0-1.1-.9-2-2-2zM9 17H7v-7h2v7zm4 0h-2V7h2v10zm4 0h-2v-4h2v4z\"/>\n",
              "    </g>\n",
              "</svg>\n",
              "  </button>\n",
              "\n",
              "<style>\n",
              "  .colab-df-quickchart {\n",
              "      --bg-color: #E8F0FE;\n",
              "      --fill-color: #1967D2;\n",
              "      --hover-bg-color: #E2EBFA;\n",
              "      --hover-fill-color: #174EA6;\n",
              "      --disabled-fill-color: #AAA;\n",
              "      --disabled-bg-color: #DDD;\n",
              "  }\n",
              "\n",
              "  [theme=dark] .colab-df-quickchart {\n",
              "      --bg-color: #3B4455;\n",
              "      --fill-color: #D2E3FC;\n",
              "      --hover-bg-color: #434B5C;\n",
              "      --hover-fill-color: #FFFFFF;\n",
              "      --disabled-bg-color: #3B4455;\n",
              "      --disabled-fill-color: #666;\n",
              "  }\n",
              "\n",
              "  .colab-df-quickchart {\n",
              "    background-color: var(--bg-color);\n",
              "    border: none;\n",
              "    border-radius: 50%;\n",
              "    cursor: pointer;\n",
              "    display: none;\n",
              "    fill: var(--fill-color);\n",
              "    height: 32px;\n",
              "    padding: 0;\n",
              "    width: 32px;\n",
              "  }\n",
              "\n",
              "  .colab-df-quickchart:hover {\n",
              "    background-color: var(--hover-bg-color);\n",
              "    box-shadow: 0 1px 2px rgba(60, 64, 67, 0.3), 0 1px 3px 1px rgba(60, 64, 67, 0.15);\n",
              "    fill: var(--button-hover-fill-color);\n",
              "  }\n",
              "\n",
              "  .colab-df-quickchart-complete:disabled,\n",
              "  .colab-df-quickchart-complete:disabled:hover {\n",
              "    background-color: var(--disabled-bg-color);\n",
              "    fill: var(--disabled-fill-color);\n",
              "    box-shadow: none;\n",
              "  }\n",
              "\n",
              "  .colab-df-spinner {\n",
              "    border: 2px solid var(--fill-color);\n",
              "    border-color: transparent;\n",
              "    border-bottom-color: var(--fill-color);\n",
              "    animation:\n",
              "      spin 1s steps(1) infinite;\n",
              "  }\n",
              "\n",
              "  @keyframes spin {\n",
              "    0% {\n",
              "      border-color: transparent;\n",
              "      border-bottom-color: var(--fill-color);\n",
              "      border-left-color: var(--fill-color);\n",
              "    }\n",
              "    20% {\n",
              "      border-color: transparent;\n",
              "      border-left-color: var(--fill-color);\n",
              "      border-top-color: var(--fill-color);\n",
              "    }\n",
              "    30% {\n",
              "      border-color: transparent;\n",
              "      border-left-color: var(--fill-color);\n",
              "      border-top-color: var(--fill-color);\n",
              "      border-right-color: var(--fill-color);\n",
              "    }\n",
              "    40% {\n",
              "      border-color: transparent;\n",
              "      border-right-color: var(--fill-color);\n",
              "      border-top-color: var(--fill-color);\n",
              "    }\n",
              "    60% {\n",
              "      border-color: transparent;\n",
              "      border-right-color: var(--fill-color);\n",
              "    }\n",
              "    80% {\n",
              "      border-color: transparent;\n",
              "      border-right-color: var(--fill-color);\n",
              "      border-bottom-color: var(--fill-color);\n",
              "    }\n",
              "    90% {\n",
              "      border-color: transparent;\n",
              "      border-bottom-color: var(--fill-color);\n",
              "    }\n",
              "  }\n",
              "</style>\n",
              "\n",
              "  <script>\n",
              "    async function quickchart(key) {\n",
              "      const quickchartButtonEl =\n",
              "        document.querySelector('#' + key + ' button');\n",
              "      quickchartButtonEl.disabled = true;  // To prevent multiple clicks.\n",
              "      quickchartButtonEl.classList.add('colab-df-spinner');\n",
              "      try {\n",
              "        const charts = await google.colab.kernel.invokeFunction(\n",
              "            'suggestCharts', [key], {});\n",
              "      } catch (error) {\n",
              "        console.error('Error during call to suggestCharts:', error);\n",
              "      }\n",
              "      quickchartButtonEl.classList.remove('colab-df-spinner');\n",
              "      quickchartButtonEl.classList.add('colab-df-quickchart-complete');\n",
              "    }\n",
              "    (() => {\n",
              "      let quickchartButtonEl =\n",
              "        document.querySelector('#df-4d5db0bc-e7ae-4193-b59b-fb235ef6f8c4 button');\n",
              "      quickchartButtonEl.style.display =\n",
              "        google.colab.kernel.accessAllowed ? 'block' : 'none';\n",
              "    })();\n",
              "  </script>\n",
              "</div>\n",
              "\n",
              "    </div>\n",
              "  </div>\n"
            ],
            "application/vnd.google.colaboratory.intrinsic+json": {
              "type": "dataframe",
              "variable_name": "data"
            }
          },
          "metadata": {},
          "execution_count": 21
        }
      ]
    },
    {
      "cell_type": "code",
      "source": [
        "X = data.iloc[:119, 5:].values  # Features (spectroscopy data)\n",
        "y = data.iloc[:119, 4].values   # Target variable (Soil Organic Carbon)"
      ],
      "metadata": {
        "id": "UxjHADcPJUKw"
      },
      "execution_count": 22,
      "outputs": []
    },
    {
      "cell_type": "code",
      "source": [
        "a = np.array(y)\n",
        "len(a)"
      ],
      "metadata": {
        "colab": {
          "base_uri": "https://localhost:8080/"
        },
        "id": "3IyfAjBQJXI9",
        "outputId": "2a7f56de-c3d2-4bd8-99a8-53799fc413a3"
      },
      "execution_count": 23,
      "outputs": [
        {
          "output_type": "execute_result",
          "data": {
            "text/plain": [
              "119"
            ]
          },
          "metadata": {},
          "execution_count": 23
        }
      ]
    },
    {
      "cell_type": "code",
      "source": [
        "# Split dataset into train and test sets\n",
        "X_train, X_test, y_train, y_test = train_test_split(X, y, test_size=0.2, random_state=42)"
      ],
      "metadata": {
        "id": "gyFWOSnQJa1l"
      },
      "execution_count": 24,
      "outputs": []
    },
    {
      "cell_type": "code",
      "source": [
        "# Feature scaling\n",
        "from sklearn.preprocessing import StandardScaler\n",
        "sc_X = StandardScaler()\n",
        "sc_y = StandardScaler()\n",
        "X_train_scaled = sc_X.fit_transform(X_train)\n",
        "y_train_scaled = sc_y.fit_transform(y_train.reshape(-1, 1))"
      ],
      "metadata": {
        "id": "onfng2T3Jjk-"
      },
      "execution_count": 25,
      "outputs": []
    },
    {
      "cell_type": "code",
      "source": [
        "# Train SVR model\n",
        "svr = SVR(kernel='rbf')\n",
        "svr.fit(X_train_scaled, y_train_scaled.ravel())\n",
        "\n",
        "# Predict SOC for test set\n",
        "X_test_scaled = sc_X.transform(X_test)\n",
        "y_pred_scaled = svr.predict(X_test_scaled)\n",
        "print(y_pred_scaled.shape)"
      ],
      "metadata": {
        "colab": {
          "base_uri": "https://localhost:8080/"
        },
        "id": "JBx7h_6SJsBt",
        "outputId": "13aea4bc-1aa2-4f95-f01b-ba3f9881aeb5"
      },
      "execution_count": 26,
      "outputs": [
        {
          "output_type": "stream",
          "name": "stdout",
          "text": [
            "(24,)\n"
          ]
        }
      ]
    },
    {
      "cell_type": "code",
      "source": [
        "if y_pred_scaled.ndim == 1:\n",
        "    y_pred_scaled = y_pred_scaled.reshape(-1, 1)\n",
        "print(y_pred_scaled.shape)"
      ],
      "metadata": {
        "colab": {
          "base_uri": "https://localhost:8080/"
        },
        "id": "ReP282lZJv69",
        "outputId": "aa39ea7d-3844-452e-dca9-1b54d10e9c72"
      },
      "execution_count": 27,
      "outputs": [
        {
          "output_type": "stream",
          "name": "stdout",
          "text": [
            "(24, 1)\n"
          ]
        }
      ]
    },
    {
      "cell_type": "code",
      "source": [
        "y_pred = sc_y.inverse_transform(y_pred_scaled)"
      ],
      "metadata": {
        "id": "Dp5clJbRJyEQ"
      },
      "execution_count": 28,
      "outputs": []
    },
    {
      "cell_type": "code",
      "source": [
        "# Compare the Test Set with Predicted Values\n",
        "y_test = y_test.ravel()\n",
        "y_pred = y_pred.ravel()\n",
        "comparison_df = pd.DataFrame({'Actual_SOC': y_test, 'Predicted_SOC': y_pred})\n",
        "print(comparison_df)"
      ],
      "metadata": {
        "colab": {
          "base_uri": "https://localhost:8080/"
        },
        "id": "jQz32-rrJ1z0",
        "outputId": "8d6ae549-0925-4a8f-ef31-a6b0a78e3eec"
      },
      "execution_count": 29,
      "outputs": [
        {
          "output_type": "stream",
          "name": "stdout",
          "text": [
            "    Actual_SOC  Predicted_SOC\n",
            "0         0.47       0.305275\n",
            "1         0.32       0.417780\n",
            "2         0.25       0.306800\n",
            "3         0.42       0.314065\n",
            "4         0.51       0.333427\n",
            "5         0.19       0.336150\n",
            "6         0.26       0.322939\n",
            "7         0.46       0.392316\n",
            "8         0.44       0.346622\n",
            "9         0.26       0.316470\n",
            "10        0.51       0.390331\n",
            "11        0.11       0.359743\n",
            "12        0.51       0.394494\n",
            "13        0.36       0.434924\n",
            "14        0.51       0.390361\n",
            "15        0.49       0.409073\n",
            "16        0.30       0.459718\n",
            "17        0.10       0.360017\n",
            "18        0.36       0.330572\n",
            "19        0.06       0.371372\n",
            "20        0.57       0.322597\n",
            "21        0.42       0.323203\n",
            "22        0.55       0.466455\n",
            "23        0.49       0.326386\n"
          ]
        }
      ]
    },
    {
      "cell_type": "code",
      "source": [
        "# Evaluate the model\n",
        "mse = mean_squared_error(y_test, y_pred)\n",
        "print(\"Mean Squared Error:\", mse)"
      ],
      "metadata": {
        "colab": {
          "base_uri": "https://localhost:8080/"
        },
        "id": "xte3vmvlKM7u",
        "outputId": "a1a35091-8a5c-46a0-fa24-27438b6f2780"
      },
      "execution_count": 30,
      "outputs": [
        {
          "output_type": "stream",
          "name": "stdout",
          "text": [
            "Mean Squared Error: 0.022329462569240437\n"
          ]
        }
      ]
    },
    {
      "cell_type": "code",
      "source": [
        "import math\n",
        "rmse = math.sqrt(mse)\n",
        "print(\"Root Mean Squared Value:\", rmse)"
      ],
      "metadata": {
        "colab": {
          "base_uri": "https://localhost:8080/"
        },
        "id": "X3nep8vXKTM1",
        "outputId": "e205e143-edc0-4c38-c6f8-c9e200e15a5d"
      },
      "execution_count": 31,
      "outputs": [
        {
          "output_type": "stream",
          "name": "stdout",
          "text": [
            "Root Mean Squared Value: 0.14943046064722024\n"
          ]
        }
      ]
    },
    {
      "cell_type": "code",
      "source": [
        "from sklearn.metrics import r2_score\n",
        "\n",
        "# Calculate R2 score\n",
        "r2 = r2_score(y_test, y_pred)\n",
        "print(\"R-squared (R2) Score:\", r2)"
      ],
      "metadata": {
        "colab": {
          "base_uri": "https://localhost:8080/"
        },
        "id": "guoFAAknKYWV",
        "outputId": "dfab1004-9e30-44a5-984f-7270765b97a1"
      },
      "execution_count": 32,
      "outputs": [
        {
          "output_type": "stream",
          "name": "stdout",
          "text": [
            "R-squared (R2) Score: -0.0252016993912203\n"
          ]
        }
      ]
    },
    {
      "cell_type": "code",
      "source": [
        "from sklearn.metrics import mean_absolute_error\n",
        "\n",
        "# Calculate MAE\n",
        "mae = mean_absolute_error(y_test, y_pred)\n",
        "print(\"Mean Absolute Error (MAE):\", mae)"
      ],
      "metadata": {
        "colab": {
          "base_uri": "https://localhost:8080/"
        },
        "id": "4cDmeRlNKcGX",
        "outputId": "6932b07b-b16d-42e1-e2f1-7037f4081503"
      },
      "execution_count": 33,
      "outputs": [
        {
          "output_type": "stream",
          "name": "stdout",
          "text": [
            "Mean Absolute Error (MAE): 0.13086402010629924\n"
          ]
        }
      ]
    },
    {
      "cell_type": "code",
      "source": [
        "import matplotlib.pyplot as plt\n",
        "# Scatter plot of actual vs predicted SOC values\n",
        "plt.figure(figsize=(8, 6))\n",
        "plt.scatter(y_test, y_pred, color='blue')\n",
        "plt.plot([min(y_test), max(y_test)], [min(y_test), max(y_test)], color='red', linestyle='--')\n",
        "plt.xlabel('Actual SOC')\n",
        "plt.ylabel('Predicted SOC')\n",
        "plt.title('SVR: Actual vs Predicted SOC')\n",
        "plt.show()"
      ],
      "metadata": {
        "colab": {
          "base_uri": "https://localhost:8080/",
          "height": 564
        },
        "id": "K81ZAGaiKxYR",
        "outputId": "22e9298a-1bb4-42f4-e9eb-55c89b8b6ab8"
      },
      "execution_count": 34,
      "outputs": [
        {
          "output_type": "display_data",
          "data": {
            "text/plain": [
              "<Figure size 800x600 with 1 Axes>"
            ],
            "image/png": "[encoded data removed]"
          },
          "metadata": {}
        }
      ]
    },
    {
      "cell_type": "code",
      "source": [],
      "metadata": {
        "id": "Vg8O5QMSK1h9"
      },
      "execution_count": null,
      "outputs": []
    }
  ]
}